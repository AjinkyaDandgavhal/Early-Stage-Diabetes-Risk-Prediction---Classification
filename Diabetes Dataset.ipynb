{
 "cells": [
  {
   "cell_type": "markdown",
   "id": "6e1346ae",
   "metadata": {},
   "source": [
    "# Early Stage Diabetes Risk Prediction Dataset"
   ]
  },
  {
   "cell_type": "markdown",
   "id": "0490b511",
   "metadata": {},
   "source": [
    "Dataset Link : https://archive.ics.uci.edu/ml/datasets/Early+stage+diabetes+risk+prediction+dataset.#\n",
    "\n",
    "References : https://link.springer.com/chapter/10.1007/978-981-13-8798-2_12"
   ]
  },
  {
   "cell_type": "code",
   "execution_count": 15,
   "id": "5a952d8c",
   "metadata": {},
   "outputs": [],
   "source": [
    "# Diabetes is one of the fastest growing chronic life threatening diseases that have already affected 422 million people \n",
    "# worldwide according to the report of World Health Organization (WHO), in 2018. Due to the presence of a relatively long \n",
    "# asymptomatic phase, early detection of diabetes is always desired for a clinically meaningful outcome. Around 50% of all \n",
    "# people suffering from diabetes are undiagnosed because of its long-term asymptomatic phase. The early diagnosis of diabetes \n",
    "# is only possible by proper assessment of both common and less common sign symptoms, which could be found in different \n",
    "# phases from disease initiation up to diagnosis. Data mining classification techniques have been well accepted by researchers\n",
    "# for risk prediction model of the disease. To predict the likelihood of having diabetes requires a dataset, which contains \n",
    "# the data of newly diabetic or would be diabetic patient. In this work, we have used such a dataset of 520 instances, which\n",
    "# has been collected using direct questionnaires from the patients of Sylhet Diabetes Hospital in Sylhet, Bangladesh. We have\n",
    "# analyzed the dataset with Naive Bayes Algorithm, Logistic Regression Algorithm, and Random Forest Algorithm and after \n",
    "# applying tenfold Cross- Validation and Percentage Split evaluation techniques, Random forest has been found having best \n",
    "# accuracy on this dataset. Finally, a commonly accessible, user-friendly tool for the end user to check the risk of having \n",
    "# diabetes from assessing the symptoms and useful tips to control over the risk factors has been proposed."
   ]
  },
  {
   "cell_type": "code",
   "execution_count": 16,
   "id": "4ae105ed",
   "metadata": {},
   "outputs": [],
   "source": [
    "# Attribute Information:\n",
    "\n",
    "# Age : 20-65 yrs\n",
    "# Sex : Male/ Female\n",
    "# Polyuria : Excessive urination \n",
    "# Polydipsia :Excess Thirst\n",
    "# Sudden Weight Loss : Sudden loss in weight\n",
    "# Weakness : Feeling of weakness\n",
    "# Polyphagia : Excessive eating\n",
    "# Genital Thrush : A yeast infection near the genital regions\n",
    "# Visual Blurring : Blurred vision\n",
    "# Itching : Itching sensation\n",
    "# Irritability : Irritation in mood\n",
    "# Delayed Healing : Delayed healing of wounds\n",
    "# Partial Paresis : Weakening of muscles or group of muscles\n",
    "# Muscle Stiffness :  Stiff muscles\n",
    "# Alopecia : Hairloss\n",
    "# Obesity : Excessive body fat\n",
    "# Class : Positive/ Negative"
   ]
  },
  {
   "cell_type": "code",
   "execution_count": 17,
   "id": "af8121a7",
   "metadata": {},
   "outputs": [],
   "source": [
    "# importing the required libraries\n",
    "\n",
    "import numpy as np\n",
    "import pandas as pd\n",
    "import seaborn as sns\n",
    "import matplotlib.pyplot as plt\n",
    "%matplotlib inline\n",
    "import warnings\n",
    "warnings.filterwarnings(action = 'ignore')\n",
    "from sklearn.metrics import classification_report, confusion_matrix, cohen_kappa_score, roc_auc_score, roc_curve"
   ]
  },
  {
   "cell_type": "code",
   "execution_count": 18,
   "id": "b51d3f44",
   "metadata": {},
   "outputs": [],
   "source": [
    "# Loading the dataset\n",
    "\n",
    "df = pd.read_csv('diabetes_data_upload.csv')"
   ]
  },
  {
   "cell_type": "code",
   "execution_count": 19,
   "id": "7ed1165e",
   "metadata": {},
   "outputs": [
    {
     "data": {
      "text/html": [
       "<div>\n",
       "<style scoped>\n",
       "    .dataframe tbody tr th:only-of-type {\n",
       "        vertical-align: middle;\n",
       "    }\n",
       "\n",
       "    .dataframe tbody tr th {\n",
       "        vertical-align: top;\n",
       "    }\n",
       "\n",
       "    .dataframe thead th {\n",
       "        text-align: right;\n",
       "    }\n",
       "</style>\n",
       "<table border=\"1\" class=\"dataframe\">\n",
       "  <thead>\n",
       "    <tr style=\"text-align: right;\">\n",
       "      <th></th>\n",
       "      <th>Age</th>\n",
       "      <th>Gender</th>\n",
       "      <th>Polyuria</th>\n",
       "      <th>Polydipsia</th>\n",
       "      <th>sudden weight loss</th>\n",
       "      <th>weakness</th>\n",
       "      <th>Polyphagia</th>\n",
       "      <th>Genital thrush</th>\n",
       "      <th>visual blurring</th>\n",
       "      <th>Itching</th>\n",
       "      <th>Irritability</th>\n",
       "      <th>delayed healing</th>\n",
       "      <th>partial paresis</th>\n",
       "      <th>muscle stiffness</th>\n",
       "      <th>Alopecia</th>\n",
       "      <th>Obesity</th>\n",
       "      <th>class</th>\n",
       "    </tr>\n",
       "  </thead>\n",
       "  <tbody>\n",
       "    <tr>\n",
       "      <th>0</th>\n",
       "      <td>40</td>\n",
       "      <td>Male</td>\n",
       "      <td>No</td>\n",
       "      <td>Yes</td>\n",
       "      <td>No</td>\n",
       "      <td>Yes</td>\n",
       "      <td>No</td>\n",
       "      <td>No</td>\n",
       "      <td>No</td>\n",
       "      <td>Yes</td>\n",
       "      <td>No</td>\n",
       "      <td>Yes</td>\n",
       "      <td>No</td>\n",
       "      <td>Yes</td>\n",
       "      <td>Yes</td>\n",
       "      <td>Yes</td>\n",
       "      <td>Positive</td>\n",
       "    </tr>\n",
       "    <tr>\n",
       "      <th>1</th>\n",
       "      <td>58</td>\n",
       "      <td>Male</td>\n",
       "      <td>No</td>\n",
       "      <td>No</td>\n",
       "      <td>No</td>\n",
       "      <td>Yes</td>\n",
       "      <td>No</td>\n",
       "      <td>No</td>\n",
       "      <td>Yes</td>\n",
       "      <td>No</td>\n",
       "      <td>No</td>\n",
       "      <td>No</td>\n",
       "      <td>Yes</td>\n",
       "      <td>No</td>\n",
       "      <td>Yes</td>\n",
       "      <td>No</td>\n",
       "      <td>Positive</td>\n",
       "    </tr>\n",
       "    <tr>\n",
       "      <th>2</th>\n",
       "      <td>41</td>\n",
       "      <td>Male</td>\n",
       "      <td>Yes</td>\n",
       "      <td>No</td>\n",
       "      <td>No</td>\n",
       "      <td>Yes</td>\n",
       "      <td>Yes</td>\n",
       "      <td>No</td>\n",
       "      <td>No</td>\n",
       "      <td>Yes</td>\n",
       "      <td>No</td>\n",
       "      <td>Yes</td>\n",
       "      <td>No</td>\n",
       "      <td>Yes</td>\n",
       "      <td>Yes</td>\n",
       "      <td>No</td>\n",
       "      <td>Positive</td>\n",
       "    </tr>\n",
       "    <tr>\n",
       "      <th>3</th>\n",
       "      <td>45</td>\n",
       "      <td>Male</td>\n",
       "      <td>No</td>\n",
       "      <td>No</td>\n",
       "      <td>Yes</td>\n",
       "      <td>Yes</td>\n",
       "      <td>Yes</td>\n",
       "      <td>Yes</td>\n",
       "      <td>No</td>\n",
       "      <td>Yes</td>\n",
       "      <td>No</td>\n",
       "      <td>Yes</td>\n",
       "      <td>No</td>\n",
       "      <td>No</td>\n",
       "      <td>No</td>\n",
       "      <td>No</td>\n",
       "      <td>Positive</td>\n",
       "    </tr>\n",
       "    <tr>\n",
       "      <th>4</th>\n",
       "      <td>60</td>\n",
       "      <td>Male</td>\n",
       "      <td>Yes</td>\n",
       "      <td>Yes</td>\n",
       "      <td>Yes</td>\n",
       "      <td>Yes</td>\n",
       "      <td>Yes</td>\n",
       "      <td>No</td>\n",
       "      <td>Yes</td>\n",
       "      <td>Yes</td>\n",
       "      <td>Yes</td>\n",
       "      <td>Yes</td>\n",
       "      <td>Yes</td>\n",
       "      <td>Yes</td>\n",
       "      <td>Yes</td>\n",
       "      <td>Yes</td>\n",
       "      <td>Positive</td>\n",
       "    </tr>\n",
       "  </tbody>\n",
       "</table>\n",
       "</div>"
      ],
      "text/plain": [
       "   Age Gender Polyuria Polydipsia sudden weight loss weakness Polyphagia  \\\n",
       "0   40   Male       No        Yes                 No      Yes         No   \n",
       "1   58   Male       No         No                 No      Yes         No   \n",
       "2   41   Male      Yes         No                 No      Yes        Yes   \n",
       "3   45   Male       No         No                Yes      Yes        Yes   \n",
       "4   60   Male      Yes        Yes                Yes      Yes        Yes   \n",
       "\n",
       "  Genital thrush visual blurring Itching Irritability delayed healing  \\\n",
       "0             No              No     Yes           No             Yes   \n",
       "1             No             Yes      No           No              No   \n",
       "2             No              No     Yes           No             Yes   \n",
       "3            Yes              No     Yes           No             Yes   \n",
       "4             No             Yes     Yes          Yes             Yes   \n",
       "\n",
       "  partial paresis muscle stiffness Alopecia Obesity     class  \n",
       "0              No              Yes      Yes     Yes  Positive  \n",
       "1             Yes               No      Yes      No  Positive  \n",
       "2              No              Yes      Yes      No  Positive  \n",
       "3              No               No       No      No  Positive  \n",
       "4             Yes              Yes      Yes     Yes  Positive  "
      ]
     },
     "execution_count": 19,
     "metadata": {},
     "output_type": "execute_result"
    }
   ],
   "source": [
    "df.head()"
   ]
  },
  {
   "cell_type": "code",
   "execution_count": 20,
   "id": "069f6c29",
   "metadata": {},
   "outputs": [
    {
     "data": {
      "text/plain": [
       "(520, 17)"
      ]
     },
     "execution_count": 20,
     "metadata": {},
     "output_type": "execute_result"
    }
   ],
   "source": [
    "df.shape\n",
    "\n",
    "# There are 520 rows and 17 columns in the datset."
   ]
  },
  {
   "cell_type": "code",
   "execution_count": 21,
   "id": "3992c79f",
   "metadata": {},
   "outputs": [
    {
     "name": "stdout",
     "output_type": "stream",
     "text": [
      "<class 'pandas.core.frame.DataFrame'>\n",
      "RangeIndex: 520 entries, 0 to 519\n",
      "Data columns (total 17 columns):\n",
      " #   Column              Non-Null Count  Dtype \n",
      "---  ------              --------------  ----- \n",
      " 0   Age                 520 non-null    int64 \n",
      " 1   Gender              520 non-null    object\n",
      " 2   Polyuria            520 non-null    object\n",
      " 3   Polydipsia          520 non-null    object\n",
      " 4   sudden weight loss  520 non-null    object\n",
      " 5   weakness            520 non-null    object\n",
      " 6   Polyphagia          520 non-null    object\n",
      " 7   Genital thrush      520 non-null    object\n",
      " 8   visual blurring     520 non-null    object\n",
      " 9   Itching             520 non-null    object\n",
      " 10  Irritability        520 non-null    object\n",
      " 11  delayed healing     520 non-null    object\n",
      " 12  partial paresis     520 non-null    object\n",
      " 13  muscle stiffness    520 non-null    object\n",
      " 14  Alopecia            520 non-null    object\n",
      " 15  Obesity             520 non-null    object\n",
      " 16  class               520 non-null    object\n",
      "dtypes: int64(1), object(16)\n",
      "memory usage: 69.2+ KB\n"
     ]
    }
   ],
   "source": [
    "df.info()\n",
    "\n",
    "# Age column is numerical, rest all columns are categorical."
   ]
  },
  {
   "cell_type": "code",
   "execution_count": 8,
   "id": "2416c7ff",
   "metadata": {},
   "outputs": [
    {
     "data": {
      "text/html": [
       "<div>\n",
       "<style scoped>\n",
       "    .dataframe tbody tr th:only-of-type {\n",
       "        vertical-align: middle;\n",
       "    }\n",
       "\n",
       "    .dataframe tbody tr th {\n",
       "        vertical-align: top;\n",
       "    }\n",
       "\n",
       "    .dataframe thead th {\n",
       "        text-align: right;\n",
       "    }\n",
       "</style>\n",
       "<table border=\"1\" class=\"dataframe\">\n",
       "  <thead>\n",
       "    <tr style=\"text-align: right;\">\n",
       "      <th></th>\n",
       "      <th>Age</th>\n",
       "    </tr>\n",
       "  </thead>\n",
       "  <tbody>\n",
       "    <tr>\n",
       "      <th>count</th>\n",
       "      <td>520.000000</td>\n",
       "    </tr>\n",
       "    <tr>\n",
       "      <th>mean</th>\n",
       "      <td>48.028846</td>\n",
       "    </tr>\n",
       "    <tr>\n",
       "      <th>std</th>\n",
       "      <td>12.151466</td>\n",
       "    </tr>\n",
       "    <tr>\n",
       "      <th>min</th>\n",
       "      <td>16.000000</td>\n",
       "    </tr>\n",
       "    <tr>\n",
       "      <th>25%</th>\n",
       "      <td>39.000000</td>\n",
       "    </tr>\n",
       "    <tr>\n",
       "      <th>50%</th>\n",
       "      <td>47.500000</td>\n",
       "    </tr>\n",
       "    <tr>\n",
       "      <th>75%</th>\n",
       "      <td>57.000000</td>\n",
       "    </tr>\n",
       "    <tr>\n",
       "      <th>max</th>\n",
       "      <td>90.000000</td>\n",
       "    </tr>\n",
       "  </tbody>\n",
       "</table>\n",
       "</div>"
      ],
      "text/plain": [
       "              Age\n",
       "count  520.000000\n",
       "mean    48.028846\n",
       "std     12.151466\n",
       "min     16.000000\n",
       "25%     39.000000\n",
       "50%     47.500000\n",
       "75%     57.000000\n",
       "max     90.000000"
      ]
     },
     "execution_count": 8,
     "metadata": {},
     "output_type": "execute_result"
    }
   ],
   "source": [
    "df.describe()"
   ]
  },
  {
   "cell_type": "code",
   "execution_count": 9,
   "id": "dc26b218",
   "metadata": {},
   "outputs": [
    {
     "data": {
      "text/plain": [
       "Age                   0\n",
       "Gender                0\n",
       "Polyuria              0\n",
       "Polydipsia            0\n",
       "sudden weight loss    0\n",
       "weakness              0\n",
       "Polyphagia            0\n",
       "Genital thrush        0\n",
       "visual blurring       0\n",
       "Itching               0\n",
       "Irritability          0\n",
       "delayed healing       0\n",
       "partial paresis       0\n",
       "muscle stiffness      0\n",
       "Alopecia              0\n",
       "Obesity               0\n",
       "class                 0\n",
       "dtype: int64"
      ]
     },
     "execution_count": 9,
     "metadata": {},
     "output_type": "execute_result"
    }
   ],
   "source": [
    "df.isnull().sum()\n",
    "\n",
    "# There are no null values in the dataset."
   ]
  },
  {
   "cell_type": "code",
   "execution_count": 10,
   "id": "d6c313f2",
   "metadata": {},
   "outputs": [
    {
     "data": {
      "text/plain": [
       "Positive    61.538462\n",
       "Negative    38.461538\n",
       "Name: class, dtype: float64"
      ]
     },
     "execution_count": 10,
     "metadata": {},
     "output_type": "execute_result"
    }
   ],
   "source": [
    "# Understanding the distribution of the Target Column\n",
    "\n",
    "df['class'].value_counts(normalize = True)*100"
   ]
  },
  {
   "cell_type": "code",
   "execution_count": 31,
   "id": "bcab79f1",
   "metadata": {},
   "outputs": [
    {
     "data": {
      "image/png": "[encoded data removed]",
      "text/plain": [
       "<Figure size 432x288 with 1 Axes>"
      ]
     },
     "metadata": {
      "needs_background": "light"
     },
     "output_type": "display_data"
    },
    {
     "data": {
      "image/png": "[encoded data removed]",
      "text/plain": [
       "<Figure size 432x288 with 1 Axes>"
      ]
     },
     "metadata": {},
     "output_type": "display_data"
    }
   ],
   "source": [
    "sns.countplot(df['class'])\n",
    "plt.show()\n",
    "\n",
    "df['class'].value_counts(normalize = True).plot(kind = 'pie', autopct = '%0.2f%%', explode = [0, 0.03])\n",
    "plt.show()\n",
    "\n",
    "# The dataset is fairly balanced."
   ]
  },
  {
   "cell_type": "code",
   "execution_count": 39,
   "id": "52517039",
   "metadata": {},
   "outputs": [],
   "source": [
    "X = df.drop('class', axis = 1)"
   ]
  },
  {
   "cell_type": "code",
   "execution_count": 40,
   "id": "d69c2154",
   "metadata": {},
   "outputs": [],
   "source": [
    "X = pd.get_dummies(X, drop_first = True)\n",
    "y = df['class'].replace({'Negative' : 0, 'Positive' : 1})"
   ]
  },
  {
   "cell_type": "code",
   "execution_count": 46,
   "id": "656eafbf",
   "metadata": {},
   "outputs": [],
   "source": [
    "# Train-Test Split\n",
    "\n",
    "from sklearn.model_selection import train_test_split\n",
    "\n",
    "X_train, X_test, y_train, y_test = train_test_split(X, y, random_state = 10, test_size = 0.2)"
   ]
  },
  {
   "cell_type": "code",
   "execution_count": null,
   "id": "fefb356c",
   "metadata": {},
   "outputs": [],
   "source": [
    "# Fitting Base Models"
   ]
  },
  {
   "cell_type": "code",
   "execution_count": 44,
   "id": "837b89a6",
   "metadata": {},
   "outputs": [],
   "source": [
    "from sklearn.metrics import confusion_matrix, classification_report, roc_auc_score, roc_curve, f1_score"
   ]
  },
  {
   "cell_type": "code",
   "execution_count": 48,
   "id": "a2068caf",
   "metadata": {},
   "outputs": [
    {
     "name": "stdout",
     "output_type": "stream",
     "text": [
      "Optimization terminated successfully.\n",
      "         Current function value: 0.179898\n",
      "         Iterations 9\n",
      "                           Logit Regression Results                           \n",
      "==============================================================================\n",
      "Dep. Variable:                  class   No. Observations:                  416\n",
      "Model:                          Logit   Df Residuals:                      399\n",
      "Method:                           MLE   Df Model:                           16\n",
      "Date:                Wed, 25 May 2022   Pseudo R-squ.:                  0.7281\n",
      "Time:                        18:12:59   Log-Likelihood:                -74.838\n",
      "converged:                       True   LL-Null:                       -275.21\n",
      "Covariance Type:            nonrobust   LLR p-value:                 2.541e-75\n",
      "==========================================================================================\n",
      "                             coef    std err          z      P>|z|      [0.025      0.975]\n",
      "------------------------------------------------------------------------------------------\n",
      "const                      2.0793      1.064      1.954      0.051      -0.007       4.165\n",
      "Age                       -0.0366      0.026     -1.426      0.154      -0.087       0.014\n",
      "Gender_Male               -3.8860      0.599     -6.485      0.000      -5.060      -2.712\n",
      "Polyuria_Yes               3.9955      0.737      5.419      0.000       2.551       5.440\n",
      "Polydipsia_Yes             4.5342      0.808      5.612      0.000       2.951       6.118\n",
      "sudden weight loss_Yes     0.2735      0.548      0.499      0.618      -0.801       1.349\n",
      "weakness_Yes               0.9567      0.560      1.707      0.088      -0.142       2.055\n",
      "Polyphagia_Yes             0.8383      0.575      1.459      0.145      -0.288       1.965\n",
      "Genital thrush_Yes         1.5465      0.622      2.488      0.013       0.328       2.765\n",
      "visual blurring_Yes        0.4279      0.698      0.613      0.540      -0.940       1.795\n",
      "Itching_Yes               -2.7964      0.701     -3.988      0.000      -4.171      -1.422\n",
      "Irritability_Yes           2.1740      0.641      3.394      0.001       0.919       3.429\n",
      "delayed healing_Yes       -0.4770      0.575     -0.829      0.407      -1.605       0.651\n",
      "partial paresis_Yes        1.3515      0.575      2.350      0.019       0.224       2.479\n",
      "muscle stiffness_Yes      -0.6032      0.585     -1.031      0.303      -1.750       0.544\n",
      "Alopecia_Yes               0.3047      0.647      0.471      0.638      -0.964       1.574\n",
      "Obesity_Yes                0.2582      0.594      0.435      0.663      -0.905       1.421\n",
      "==========================================================================================\n",
      "\n",
      "Possibly complete quasi-separation: A fraction 0.17 of observations can be\n",
      "perfectly predicted. This might indicate that there is complete\n",
      "quasi-separation. In this case some parameters will not be identified.\n"
     ]
    }
   ],
   "source": [
    "# Logistic Regression\n",
    "\n",
    "import statsmodels.api as sm\n",
    "\n",
    "logreg = sm.Logit(y_train, sm.add_constant(X_train)).fit()\n",
    "print(logreg.summary())"
   ]
  },
  {
   "cell_type": "code",
   "execution_count": null,
   "id": "361f6109",
   "metadata": {},
   "outputs": [],
   "source": [
    "# From the LLR p-value from the above summary, we can see that the model is significant.\n",
    "# From the p-values fro different variables, we can understand which all variables are significant."
   ]
  },
  {
   "cell_type": "code",
   "execution_count": 78,
   "id": "f1284f47",
   "metadata": {},
   "outputs": [
    {
     "data": {
      "text/plain": [
       "['Constant',\n",
       " 'Age',\n",
       " 'Gender_Male',\n",
       " 'Polyuria_Yes',\n",
       " 'Polydipsia_Yes',\n",
       " 'sudden weight loss_Yes',\n",
       " 'weakness_Yes',\n",
       " 'Polyphagia_Yes',\n",
       " 'Genital thrush_Yes',\n",
       " 'visual blurring_Yes',\n",
       " 'Itching_Yes',\n",
       " 'Irritability_Yes',\n",
       " 'delayed healing_Yes',\n",
       " 'partial paresis_Yes',\n",
       " 'muscle stiffness_Yes',\n",
       " 'Alopecia_Yes',\n",
       " 'Obesity_Yes']"
      ]
     },
     "execution_count": 78,
     "metadata": {},
     "output_type": "execute_result"
    }
   ],
   "source": [
    "features = X_train.columns.tolist()\n",
    "features.insert(0, 'Constant')"
   ]
  },
  {
   "cell_type": "code",
   "execution_count": 85,
   "id": "be578187",
   "metadata": {},
   "outputs": [
    {
     "data": {
      "text/plain": [
       "['Gender_Male',\n",
       " 'Polyuria_Yes',\n",
       " 'Polydipsia_Yes',\n",
       " 'Genital thrush_Yes',\n",
       " 'Itching_Yes',\n",
       " 'Irritability_Yes',\n",
       " 'partial paresis_Yes']"
      ]
     },
     "execution_count": 85,
     "metadata": {},
     "output_type": "execute_result"
    }
   ],
   "source": [
    "df_pvalues = pd.DataFrame()\n",
    "df_pvalues['Features'] = features\n",
    "df_pvalues['P_Values'] = logreg.pvalues.values.tolist()\n",
    "signi_var = df_pvalues[df_pvalues['P_Values'] < 0.05]['Features'].tolist()\n",
    "signi_var\n",
    "\n",
    "# Folowing are the variables which are significant."
   ]
  },
  {
   "cell_type": "code",
   "execution_count": 87,
   "id": "0b8571e7",
   "metadata": {},
   "outputs": [
    {
     "name": "stdout",
     "output_type": "stream",
     "text": [
      "Optimization terminated successfully.\n",
      "         Current function value: 0.191738\n",
      "         Iterations 9\n",
      "                           Logit Regression Results                           \n",
      "==============================================================================\n",
      "Dep. Variable:                  class   No. Observations:                  416\n",
      "Model:                          Logit   Df Residuals:                      408\n",
      "Method:                           MLE   Df Model:                            7\n",
      "Date:                Wed, 25 May 2022   Pseudo R-squ.:                  0.7102\n",
      "Time:                        18:21:45   Log-Likelihood:                -79.763\n",
      "converged:                       True   LL-Null:                       -275.21\n",
      "Covariance Type:            nonrobust   LLR p-value:                 2.138e-80\n",
      "=======================================================================================\n",
      "                          coef    std err          z      P>|z|      [0.025      0.975]\n",
      "---------------------------------------------------------------------------------------\n",
      "const                   1.0959      0.450      2.437      0.015       0.215       1.977\n",
      "Gender_Male            -3.8606      0.563     -6.859      0.000      -4.964      -2.758\n",
      "Polyuria_Yes            3.8332      0.621      6.171      0.000       2.616       5.051\n",
      "Polydipsia_Yes          4.6806      0.734      6.374      0.000       3.241       6.120\n",
      "Genital thrush_Yes      1.3218      0.528      2.505      0.012       0.287       2.356\n",
      "Itching_Yes            -2.7435      0.551     -4.983      0.000      -3.823      -1.664\n",
      "Irritability_Yes        2.2965      0.585      3.924      0.000       1.149       3.444\n",
      "partial paresis_Yes     1.2699      0.494      2.573      0.010       0.303       2.237\n",
      "=======================================================================================\n",
      "\n",
      "Possibly complete quasi-separation: A fraction 0.17 of observations can be\n",
      "perfectly predicted. This might indicate that there is complete\n",
      "quasi-separation. In this case some parameters will not be identified.\n"
     ]
    }
   ],
   "source": [
    "# We will experiment building the model using the significant variables only.\n",
    "\n",
    "logreg = sm.Logit(y_train, sm.add_constant(X_train[signi_var])).fit()\n",
    "print(logreg.summary())"
   ]
  },
  {
   "cell_type": "code",
   "execution_count": null,
   "id": "4d6ffbad",
   "metadata": {},
   "outputs": [],
   "source": [
    "# From the model summary, we can see that all the variables are significant."
   ]
  },
  {
   "cell_type": "code",
   "execution_count": 89,
   "id": "bd9a34d9",
   "metadata": {},
   "outputs": [
    {
     "name": "stdout",
     "output_type": "stream",
     "text": [
      "              precision    recall  f1-score   support\n",
      "\n",
      "           0       0.97      0.89      0.93        44\n",
      "           1       0.92      0.98      0.95        60\n",
      "\n",
      "    accuracy                           0.94       104\n",
      "   macro avg       0.95      0.93      0.94       104\n",
      "weighted avg       0.94      0.94      0.94       104\n",
      "\n"
     ]
    },
    {
     "data": {
      "image/png": "[encoded data removed]",
      "text/plain": [
       "<Figure size 432x288 with 2 Axes>"
      ]
     },
     "metadata": {
      "needs_background": "light"
     },
     "output_type": "display_data"
    }
   ],
   "source": [
    "from sklearn.linear_model import LogisticRegression\n",
    "\n",
    "logreg = LogisticRegression()\n",
    "\n",
    "logreg.fit(X_train, y_train)\n",
    "\n",
    "y_test_pred = logreg.predict(X_test)\n",
    "\n",
    "y_pred = logreg.predict(X_test)\n",
    "\n",
    "print(classification_report(y_test, y_pred))\n",
    "\n",
    "sns.heatmap(confusion_matrix(y_test, y_pred), annot = True)\n",
    "plt.show()\n",
    "\n",
    "# Using the above approach, we are getting good results.\n",
    "# We will experiment with other approaches as well."
   ]
  },
  {
   "cell_type": "code",
   "execution_count": 90,
   "id": "f3aab04a",
   "metadata": {},
   "outputs": [
    {
     "data": {
      "text/html": [
       "<div>\n",
       "<style scoped>\n",
       "    .dataframe tbody tr th:only-of-type {\n",
       "        vertical-align: middle;\n",
       "    }\n",
       "\n",
       "    .dataframe tbody tr th {\n",
       "        vertical-align: top;\n",
       "    }\n",
       "\n",
       "    .dataframe thead th {\n",
       "        text-align: right;\n",
       "    }\n",
       "</style>\n",
       "<table border=\"1\" class=\"dataframe\">\n",
       "  <thead>\n",
       "    <tr style=\"text-align: right;\">\n",
       "      <th></th>\n",
       "      <th>Threshold</th>\n",
       "      <th>F1</th>\n",
       "    </tr>\n",
       "  </thead>\n",
       "  <tbody>\n",
       "    <tr>\n",
       "      <th>5</th>\n",
       "      <td>0.6</td>\n",
       "      <td>0.957983</td>\n",
       "    </tr>\n",
       "  </tbody>\n",
       "</table>\n",
       "</div>"
      ],
      "text/plain": [
       "   Threshold        F1\n",
       "5        0.6  0.957983"
      ]
     },
     "execution_count": 90,
     "metadata": {},
     "output_type": "execute_result"
    }
   ],
   "source": [
    "# Finding the best cutoff value\n",
    "\n",
    "# using best F1 score method\n",
    "y_test_prob = logreg.predict_proba(X_test)\n",
    "f1_list = []\n",
    "for th in np.arange(0.1, 1, 0.1):\n",
    "    y_test_pred = [0 if pval < th else 1 for pval in y_test_prob[:, 1]]\n",
    "    f1_list.append(f1_score(y_test, y_test_pred))\n",
    "\n",
    "th_df = pd.DataFrame({'Threshold': np.arange(0.1, 1, 0.1), 'F1': f1_list})\n",
    "th_df[th_df['F1'] == max(th_df['F1'])]"
   ]
  },
  {
   "cell_type": "code",
   "execution_count": 93,
   "id": "495c4f85",
   "metadata": {
    "scrolled": true
   },
   "outputs": [
    {
     "name": "stdout",
     "output_type": "stream",
     "text": [
      "              precision    recall  f1-score   support\n",
      "\n",
      "           0       0.93      0.95      0.94        44\n",
      "           1       0.97      0.95      0.96        60\n",
      "\n",
      "    accuracy                           0.95       104\n",
      "   macro avg       0.95      0.95      0.95       104\n",
      "weighted avg       0.95      0.95      0.95       104\n",
      "\n"
     ]
    },
    {
     "data": {
      "image/png": "[encoded data removed]",
      "text/plain": [
       "<Figure size 432x288 with 2 Axes>"
      ]
     },
     "metadata": {
      "needs_background": "light"
     },
     "output_type": "display_data"
    }
   ],
   "source": [
    "y_pred = [0 if pval < 0.6 else 1 for pval in y_test_prob[:, 1]]\n",
    "\n",
    "print(classification_report(y_test, y_pred))\n",
    "\n",
    "sns.heatmap(confusion_matrix(y_test, y_pred), annot = True)\n",
    "plt.show()"
   ]
  },
  {
   "cell_type": "code",
   "execution_count": null,
   "id": "8d6e1a34",
   "metadata": {},
   "outputs": [],
   "source": [
    "# Results have improved using threshold = 0.6."
   ]
  },
  {
   "cell_type": "code",
   "execution_count": 91,
   "id": "a9341b74",
   "metadata": {},
   "outputs": [
    {
     "data": {
      "text/html": [
       "<div>\n",
       "<style scoped>\n",
       "    .dataframe tbody tr th:only-of-type {\n",
       "        vertical-align: middle;\n",
       "    }\n",
       "\n",
       "    .dataframe tbody tr th {\n",
       "        vertical-align: top;\n",
       "    }\n",
       "\n",
       "    .dataframe thead th {\n",
       "        text-align: right;\n",
       "    }\n",
       "</style>\n",
       "<table border=\"1\" class=\"dataframe\">\n",
       "  <thead>\n",
       "    <tr style=\"text-align: right;\">\n",
       "      <th></th>\n",
       "      <th>FPR</th>\n",
       "      <th>TPR</th>\n",
       "      <th>Threshold</th>\n",
       "      <th>Younden_Ind</th>\n",
       "    </tr>\n",
       "  </thead>\n",
       "  <tbody>\n",
       "    <tr>\n",
       "      <th>21</th>\n",
       "      <td>0.045455</td>\n",
       "      <td>0.983333</td>\n",
       "      <td>0.558349</td>\n",
       "      <td>0.937879</td>\n",
       "    </tr>\n",
       "  </tbody>\n",
       "</table>\n",
       "</div>"
      ],
      "text/plain": [
       "         FPR       TPR  Threshold  Younden_Ind\n",
       "21  0.045455  0.983333   0.558349     0.937879"
      ]
     },
     "execution_count": 91,
     "metadata": {},
     "output_type": "execute_result"
    }
   ],
   "source": [
    "# Youden's Index method\n",
    "\n",
    "fpr,tpr,th = roc_curve(y_test,y_test_prob[:,1])\n",
    "roc_df = pd.DataFrame({'FPR':fpr,'TPR':tpr,'Threshold':th})\n",
    "roc_df['Younden_Ind'] = roc_df['TPR']-roc_df['FPR']\n",
    "roc_df[roc_df['Younden_Ind']==max(roc_df['Younden_Ind'])]"
   ]
  },
  {
   "cell_type": "code",
   "execution_count": 94,
   "id": "7f7154f6",
   "metadata": {},
   "outputs": [
    {
     "name": "stdout",
     "output_type": "stream",
     "text": [
      "              precision    recall  f1-score   support\n",
      "\n",
      "           0       0.98      0.95      0.97        44\n",
      "           1       0.97      0.98      0.98        60\n",
      "\n",
      "    accuracy                           0.97       104\n",
      "   macro avg       0.97      0.97      0.97       104\n",
      "weighted avg       0.97      0.97      0.97       104\n",
      "\n"
     ]
    },
    {
     "data": {
      "image/png": "[encoded data removed]",
      "text/plain": [
       "<Figure size 432x288 with 2 Axes>"
      ]
     },
     "metadata": {
      "needs_background": "light"
     },
     "output_type": "display_data"
    }
   ],
   "source": [
    "y_pred = [0 if pval < 0.558349 else 1 for pval in y_test_prob[:, 1]]\n",
    "\n",
    "print(classification_report(y_test, y_pred))\n",
    "\n",
    "sns.heatmap(confusion_matrix(y_test, y_pred), annot = True)\n",
    "plt.show()"
   ]
  },
  {
   "cell_type": "code",
   "execution_count": null,
   "id": "399a232b",
   "metadata": {},
   "outputs": [],
   "source": [
    "# Using threshold = 0.558, we are getting very good results.\n",
    "# We will experiment with other approaches as well."
   ]
  },
  {
   "cell_type": "code",
   "execution_count": 95,
   "id": "eb24070a",
   "metadata": {},
   "outputs": [
    {
     "name": "stdout",
     "output_type": "stream",
     "text": [
      "              precision    recall  f1-score   support\n",
      "\n",
      "           0       0.98      1.00      0.99        44\n",
      "           1       1.00      0.98      0.99        60\n",
      "\n",
      "    accuracy                           0.99       104\n",
      "   macro avg       0.99      0.99      0.99       104\n",
      "weighted avg       0.99      0.99      0.99       104\n",
      "\n"
     ]
    },
    {
     "data": {
      "image/png": "[encoded data removed]",
      "text/plain": [
       "<Figure size 432x288 with 2 Axes>"
      ]
     },
     "metadata": {
      "needs_background": "light"
     },
     "output_type": "display_data"
    }
   ],
   "source": [
    "# Decision Tree\n",
    "\n",
    "from sklearn.tree import DecisionTreeClassifier\n",
    "dt = DecisionTreeClassifier()\n",
    "model_dt = dt.fit(X_train, y_train)\n",
    "\n",
    "y_pred = model_dt.predict(X_test)\n",
    "\n",
    "print(classification_report(y_test, y_pred))\n",
    "\n",
    "sns.heatmap(confusion_matrix(y_test, y_pred), annot = True)\n",
    "plt.show()"
   ]
  },
  {
   "cell_type": "code",
   "execution_count": null,
   "id": "35d19886",
   "metadata": {},
   "outputs": [],
   "source": [
    "# We are getting very good results using Decision Tree Classifier."
   ]
  },
  {
   "cell_type": "code",
   "execution_count": 99,
   "id": "4ee4712c",
   "metadata": {},
   "outputs": [
    {
     "data": {
      "text/html": [
       "<div>\n",
       "<style scoped>\n",
       "    .dataframe tbody tr th:only-of-type {\n",
       "        vertical-align: middle;\n",
       "    }\n",
       "\n",
       "    .dataframe tbody tr th {\n",
       "        vertical-align: top;\n",
       "    }\n",
       "\n",
       "    .dataframe thead th {\n",
       "        text-align: right;\n",
       "    }\n",
       "</style>\n",
       "<table border=\"1\" class=\"dataframe\">\n",
       "  <thead>\n",
       "    <tr style=\"text-align: right;\">\n",
       "      <th></th>\n",
       "      <th>Features</th>\n",
       "      <th>Importance</th>\n",
       "    </tr>\n",
       "  </thead>\n",
       "  <tbody>\n",
       "    <tr>\n",
       "      <th>2</th>\n",
       "      <td>Polyuria_Yes</td>\n",
       "      <td>0.436281</td>\n",
       "    </tr>\n",
       "    <tr>\n",
       "      <th>3</th>\n",
       "      <td>Polydipsia_Yes</td>\n",
       "      <td>0.107918</td>\n",
       "    </tr>\n",
       "    <tr>\n",
       "      <th>1</th>\n",
       "      <td>Gender_Male</td>\n",
       "      <td>0.103871</td>\n",
       "    </tr>\n",
       "    <tr>\n",
       "      <th>0</th>\n",
       "      <td>Age</td>\n",
       "      <td>0.075769</td>\n",
       "    </tr>\n",
       "    <tr>\n",
       "      <th>13</th>\n",
       "      <td>muscle stiffness_Yes</td>\n",
       "      <td>0.075337</td>\n",
       "    </tr>\n",
       "    <tr>\n",
       "      <th>14</th>\n",
       "      <td>Alopecia_Yes</td>\n",
       "      <td>0.050974</td>\n",
       "    </tr>\n",
       "    <tr>\n",
       "      <th>4</th>\n",
       "      <td>sudden weight loss_Yes</td>\n",
       "      <td>0.038291</td>\n",
       "    </tr>\n",
       "    <tr>\n",
       "      <th>11</th>\n",
       "      <td>delayed healing_Yes</td>\n",
       "      <td>0.037133</td>\n",
       "    </tr>\n",
       "    <tr>\n",
       "      <th>10</th>\n",
       "      <td>Irritability_Yes</td>\n",
       "      <td>0.026938</td>\n",
       "    </tr>\n",
       "    <tr>\n",
       "      <th>7</th>\n",
       "      <td>Genital thrush_Yes</td>\n",
       "      <td>0.015385</td>\n",
       "    </tr>\n",
       "    <tr>\n",
       "      <th>12</th>\n",
       "      <td>partial paresis_Yes</td>\n",
       "      <td>0.011937</td>\n",
       "    </tr>\n",
       "    <tr>\n",
       "      <th>15</th>\n",
       "      <td>Obesity_Yes</td>\n",
       "      <td>0.009084</td>\n",
       "    </tr>\n",
       "    <tr>\n",
       "      <th>6</th>\n",
       "      <td>Polyphagia_Yes</td>\n",
       "      <td>0.006838</td>\n",
       "    </tr>\n",
       "    <tr>\n",
       "      <th>9</th>\n",
       "      <td>Itching_Yes</td>\n",
       "      <td>0.002308</td>\n",
       "    </tr>\n",
       "    <tr>\n",
       "      <th>5</th>\n",
       "      <td>weakness_Yes</td>\n",
       "      <td>0.001937</td>\n",
       "    </tr>\n",
       "  </tbody>\n",
       "</table>\n",
       "</div>"
      ],
      "text/plain": [
       "                  Features  Importance\n",
       "2             Polyuria_Yes    0.436281\n",
       "3           Polydipsia_Yes    0.107918\n",
       "1              Gender_Male    0.103871\n",
       "0                      Age    0.075769\n",
       "13    muscle stiffness_Yes    0.075337\n",
       "14            Alopecia_Yes    0.050974\n",
       "4   sudden weight loss_Yes    0.038291\n",
       "11     delayed healing_Yes    0.037133\n",
       "10        Irritability_Yes    0.026938\n",
       "7       Genital thrush_Yes    0.015385\n",
       "12     partial paresis_Yes    0.011937\n",
       "15             Obesity_Yes    0.009084\n",
       "6           Polyphagia_Yes    0.006838\n",
       "9              Itching_Yes    0.002308\n",
       "5             weakness_Yes    0.001937"
      ]
     },
     "execution_count": 99,
     "metadata": {},
     "output_type": "execute_result"
    }
   ],
   "source": [
    "dt_df = pd.DataFrame()\n",
    "dt_df['Features'] = X_train.columns\n",
    "dt_df['Importance'] = model_dt.feature_importances_\n",
    "dt_df[dt_df['Importance'] > 0].sort_values(by = 'Importance', ascending = False)"
   ]
  },
  {
   "cell_type": "code",
   "execution_count": 101,
   "id": "030de870",
   "metadata": {},
   "outputs": [
    {
     "name": "stdout",
     "output_type": "stream",
     "text": [
      "              precision    recall  f1-score   support\n",
      "\n",
      "           0       0.98      1.00      0.99        44\n",
      "           1       1.00      0.98      0.99        60\n",
      "\n",
      "    accuracy                           0.99       104\n",
      "   macro avg       0.99      0.99      0.99       104\n",
      "weighted avg       0.99      0.99      0.99       104\n",
      "\n"
     ]
    },
    {
     "data": {
      "image/png": "[encoded data removed]",
      "text/plain": [
       "<Figure size 432x288 with 2 Axes>"
      ]
     },
     "metadata": {
      "needs_background": "light"
     },
     "output_type": "display_data"
    }
   ],
   "source": [
    "# Random Forest\n",
    "\n",
    "from sklearn.ensemble import RandomForestClassifier\n",
    "rf = RandomForestClassifier()\n",
    "model_rf = rf.fit(X_train, y_train)\n",
    "\n",
    "y_pred = model_rf.predict(X_test)\n",
    "\n",
    "print(classification_report(y_test, y_pred))\n",
    "\n",
    "sns.heatmap(confusion_matrix(y_test, y_pred), annot = True)\n",
    "plt.show()"
   ]
  },
  {
   "cell_type": "code",
   "execution_count": null,
   "id": "23ea5f24",
   "metadata": {},
   "outputs": [],
   "source": [
    "# We are getting almost perfect results using Random Forest Classifier."
   ]
  },
  {
   "cell_type": "code",
   "execution_count": 103,
   "id": "34011f36",
   "metadata": {},
   "outputs": [
    {
     "data": {
      "text/html": [
       "<div>\n",
       "<style scoped>\n",
       "    .dataframe tbody tr th:only-of-type {\n",
       "        vertical-align: middle;\n",
       "    }\n",
       "\n",
       "    .dataframe tbody tr th {\n",
       "        vertical-align: top;\n",
       "    }\n",
       "\n",
       "    .dataframe thead th {\n",
       "        text-align: right;\n",
       "    }\n",
       "</style>\n",
       "<table border=\"1\" class=\"dataframe\">\n",
       "  <thead>\n",
       "    <tr style=\"text-align: right;\">\n",
       "      <th></th>\n",
       "      <th>Features</th>\n",
       "      <th>Importance</th>\n",
       "    </tr>\n",
       "  </thead>\n",
       "  <tbody>\n",
       "    <tr>\n",
       "      <th>2</th>\n",
       "      <td>Polyuria_Yes</td>\n",
       "      <td>0.214898</td>\n",
       "    </tr>\n",
       "    <tr>\n",
       "      <th>3</th>\n",
       "      <td>Polydipsia_Yes</td>\n",
       "      <td>0.192590</td>\n",
       "    </tr>\n",
       "    <tr>\n",
       "      <th>0</th>\n",
       "      <td>Age</td>\n",
       "      <td>0.103560</td>\n",
       "    </tr>\n",
       "    <tr>\n",
       "      <th>1</th>\n",
       "      <td>Gender_Male</td>\n",
       "      <td>0.090889</td>\n",
       "    </tr>\n",
       "    <tr>\n",
       "      <th>4</th>\n",
       "      <td>sudden weight loss_Yes</td>\n",
       "      <td>0.057933</td>\n",
       "    </tr>\n",
       "    <tr>\n",
       "      <th>12</th>\n",
       "      <td>partial paresis_Yes</td>\n",
       "      <td>0.051729</td>\n",
       "    </tr>\n",
       "    <tr>\n",
       "      <th>10</th>\n",
       "      <td>Irritability_Yes</td>\n",
       "      <td>0.042588</td>\n",
       "    </tr>\n",
       "    <tr>\n",
       "      <th>14</th>\n",
       "      <td>Alopecia_Yes</td>\n",
       "      <td>0.040114</td>\n",
       "    </tr>\n",
       "    <tr>\n",
       "      <th>11</th>\n",
       "      <td>delayed healing_Yes</td>\n",
       "      <td>0.035873</td>\n",
       "    </tr>\n",
       "    <tr>\n",
       "      <th>9</th>\n",
       "      <td>Itching_Yes</td>\n",
       "      <td>0.029148</td>\n",
       "    </tr>\n",
       "    <tr>\n",
       "      <th>8</th>\n",
       "      <td>visual blurring_Yes</td>\n",
       "      <td>0.028649</td>\n",
       "    </tr>\n",
       "    <tr>\n",
       "      <th>13</th>\n",
       "      <td>muscle stiffness_Yes</td>\n",
       "      <td>0.027675</td>\n",
       "    </tr>\n",
       "    <tr>\n",
       "      <th>5</th>\n",
       "      <td>weakness_Yes</td>\n",
       "      <td>0.024556</td>\n",
       "    </tr>\n",
       "    <tr>\n",
       "      <th>6</th>\n",
       "      <td>Polyphagia_Yes</td>\n",
       "      <td>0.024146</td>\n",
       "    </tr>\n",
       "    <tr>\n",
       "      <th>7</th>\n",
       "      <td>Genital thrush_Yes</td>\n",
       "      <td>0.017972</td>\n",
       "    </tr>\n",
       "    <tr>\n",
       "      <th>15</th>\n",
       "      <td>Obesity_Yes</td>\n",
       "      <td>0.017680</td>\n",
       "    </tr>\n",
       "  </tbody>\n",
       "</table>\n",
       "</div>"
      ],
      "text/plain": [
       "                  Features  Importance\n",
       "2             Polyuria_Yes    0.214898\n",
       "3           Polydipsia_Yes    0.192590\n",
       "0                      Age    0.103560\n",
       "1              Gender_Male    0.090889\n",
       "4   sudden weight loss_Yes    0.057933\n",
       "12     partial paresis_Yes    0.051729\n",
       "10        Irritability_Yes    0.042588\n",
       "14            Alopecia_Yes    0.040114\n",
       "11     delayed healing_Yes    0.035873\n",
       "9              Itching_Yes    0.029148\n",
       "8      visual blurring_Yes    0.028649\n",
       "13    muscle stiffness_Yes    0.027675\n",
       "5             weakness_Yes    0.024556\n",
       "6           Polyphagia_Yes    0.024146\n",
       "7       Genital thrush_Yes    0.017972\n",
       "15             Obesity_Yes    0.017680"
      ]
     },
     "execution_count": 103,
     "metadata": {},
     "output_type": "execute_result"
    }
   ],
   "source": [
    "rf_df = pd.DataFrame()\n",
    "rf_df['Features'] = X_train.columns\n",
    "rf_df['Importance'] = model_rf.feature_importances_\n",
    "rf_df[rf_df['Importance'] > 0].sort_values(by = 'Importance', ascending = False)\n",
    "\n",
    "# Random Forest Classifier is giving adequate importance to majority of the attributes to make the predictions."
   ]
  },
  {
   "cell_type": "code",
   "execution_count": 104,
   "id": "35189508",
   "metadata": {},
   "outputs": [
    {
     "name": "stdout",
     "output_type": "stream",
     "text": [
      "              precision    recall  f1-score   support\n",
      "\n",
      "           0       0.91      0.89      0.90        44\n",
      "           1       0.92      0.93      0.93        60\n",
      "\n",
      "    accuracy                           0.91       104\n",
      "   macro avg       0.91      0.91      0.91       104\n",
      "weighted avg       0.91      0.91      0.91       104\n",
      "\n"
     ]
    },
    {
     "data": {
      "image/png": "[encoded data removed]",
      "text/plain": [
       "<Figure size 432x288 with 2 Axes>"
      ]
     },
     "metadata": {
      "needs_background": "light"
     },
     "output_type": "display_data"
    }
   ],
   "source": [
    "# AdaBoost \n",
    "\n",
    "from sklearn.ensemble import AdaBoostClassifier\n",
    "ada = AdaBoostClassifier()\n",
    "model_ada = ada.fit(X_train, y_train)\n",
    "\n",
    "y_pred = model_ada.predict(X_test)\n",
    "\n",
    "print(classification_report(y_test, y_pred))\n",
    "\n",
    "sns.heatmap(confusion_matrix(y_test, y_pred), annot = True)\n",
    "plt.show()"
   ]
  },
  {
   "cell_type": "code",
   "execution_count": null,
   "id": "57e1bcc7",
   "metadata": {},
   "outputs": [],
   "source": [
    "# We are getting good results using AdaBoost Classifier."
   ]
  },
  {
   "cell_type": "code",
   "execution_count": 106,
   "id": "ee01bd8c",
   "metadata": {},
   "outputs": [
    {
     "data": {
      "text/html": [
       "<div>\n",
       "<style scoped>\n",
       "    .dataframe tbody tr th:only-of-type {\n",
       "        vertical-align: middle;\n",
       "    }\n",
       "\n",
       "    .dataframe tbody tr th {\n",
       "        vertical-align: top;\n",
       "    }\n",
       "\n",
       "    .dataframe thead th {\n",
       "        text-align: right;\n",
       "    }\n",
       "</style>\n",
       "<table border=\"1\" class=\"dataframe\">\n",
       "  <thead>\n",
       "    <tr style=\"text-align: right;\">\n",
       "      <th></th>\n",
       "      <th>Features</th>\n",
       "      <th>Importance</th>\n",
       "    </tr>\n",
       "  </thead>\n",
       "  <tbody>\n",
       "    <tr>\n",
       "      <th>0</th>\n",
       "      <td>Age</td>\n",
       "      <td>0.52</td>\n",
       "    </tr>\n",
       "    <tr>\n",
       "      <th>9</th>\n",
       "      <td>Itching_Yes</td>\n",
       "      <td>0.08</td>\n",
       "    </tr>\n",
       "    <tr>\n",
       "      <th>1</th>\n",
       "      <td>Gender_Male</td>\n",
       "      <td>0.06</td>\n",
       "    </tr>\n",
       "    <tr>\n",
       "      <th>2</th>\n",
       "      <td>Polyuria_Yes</td>\n",
       "      <td>0.06</td>\n",
       "    </tr>\n",
       "    <tr>\n",
       "      <th>3</th>\n",
       "      <td>Polydipsia_Yes</td>\n",
       "      <td>0.06</td>\n",
       "    </tr>\n",
       "    <tr>\n",
       "      <th>10</th>\n",
       "      <td>Irritability_Yes</td>\n",
       "      <td>0.06</td>\n",
       "    </tr>\n",
       "    <tr>\n",
       "      <th>6</th>\n",
       "      <td>Polyphagia_Yes</td>\n",
       "      <td>0.04</td>\n",
       "    </tr>\n",
       "    <tr>\n",
       "      <th>12</th>\n",
       "      <td>partial paresis_Yes</td>\n",
       "      <td>0.04</td>\n",
       "    </tr>\n",
       "    <tr>\n",
       "      <th>4</th>\n",
       "      <td>sudden weight loss_Yes</td>\n",
       "      <td>0.02</td>\n",
       "    </tr>\n",
       "    <tr>\n",
       "      <th>5</th>\n",
       "      <td>weakness_Yes</td>\n",
       "      <td>0.02</td>\n",
       "    </tr>\n",
       "    <tr>\n",
       "      <th>7</th>\n",
       "      <td>Genital thrush_Yes</td>\n",
       "      <td>0.02</td>\n",
       "    </tr>\n",
       "    <tr>\n",
       "      <th>14</th>\n",
       "      <td>Alopecia_Yes</td>\n",
       "      <td>0.02</td>\n",
       "    </tr>\n",
       "    <tr>\n",
       "      <th>8</th>\n",
       "      <td>visual blurring_Yes</td>\n",
       "      <td>0.00</td>\n",
       "    </tr>\n",
       "    <tr>\n",
       "      <th>11</th>\n",
       "      <td>delayed healing_Yes</td>\n",
       "      <td>0.00</td>\n",
       "    </tr>\n",
       "    <tr>\n",
       "      <th>13</th>\n",
       "      <td>muscle stiffness_Yes</td>\n",
       "      <td>0.00</td>\n",
       "    </tr>\n",
       "    <tr>\n",
       "      <th>15</th>\n",
       "      <td>Obesity_Yes</td>\n",
       "      <td>0.00</td>\n",
       "    </tr>\n",
       "  </tbody>\n",
       "</table>\n",
       "</div>"
      ],
      "text/plain": [
       "                  Features  Importance\n",
       "0                      Age        0.52\n",
       "9              Itching_Yes        0.08\n",
       "1              Gender_Male        0.06\n",
       "2             Polyuria_Yes        0.06\n",
       "3           Polydipsia_Yes        0.06\n",
       "10        Irritability_Yes        0.06\n",
       "6           Polyphagia_Yes        0.04\n",
       "12     partial paresis_Yes        0.04\n",
       "4   sudden weight loss_Yes        0.02\n",
       "5             weakness_Yes        0.02\n",
       "7       Genital thrush_Yes        0.02\n",
       "14            Alopecia_Yes        0.02\n",
       "8      visual blurring_Yes        0.00\n",
       "11     delayed healing_Yes        0.00\n",
       "13    muscle stiffness_Yes        0.00\n",
       "15             Obesity_Yes        0.00"
      ]
     },
     "execution_count": 106,
     "metadata": {},
     "output_type": "execute_result"
    }
   ],
   "source": [
    "ada_df = pd.DataFrame()\n",
    "ada_df['Features'] = X_train.columns\n",
    "ada_df['Importance'] = model_ada.feature_importances_\n",
    "ada_df[rf_df['Importance'] > 0].sort_values(by = 'Importance', ascending = False)\n",
    "\n",
    "# AdaBoost Classifier is giving adequate importance to majority of the attributes to make the predictions."
   ]
  },
  {
   "cell_type": "code",
   "execution_count": 107,
   "id": "4cfae467",
   "metadata": {},
   "outputs": [
    {
     "name": "stdout",
     "output_type": "stream",
     "text": [
      "[19:33:17] WARNING: C:/Users/Administrator/workspace/xgboost-win64_release_1.5.1/src/learner.cc:1115: Starting in XGBoost 1.3.0, the default evaluation metric used with the objective 'binary:logistic' was changed from 'error' to 'logloss'. Explicitly set eval_metric if you'd like to restore the old behavior.\n",
      "              precision    recall  f1-score   support\n",
      "\n",
      "           0       0.98      1.00      0.99        44\n",
      "           1       1.00      0.98      0.99        60\n",
      "\n",
      "    accuracy                           0.99       104\n",
      "   macro avg       0.99      0.99      0.99       104\n",
      "weighted avg       0.99      0.99      0.99       104\n",
      "\n"
     ]
    },
    {
     "data": {
      "image/png": "[encoded data removed]",
      "text/plain": [
       "<Figure size 432x288 with 2 Axes>"
      ]
     },
     "metadata": {
      "needs_background": "light"
     },
     "output_type": "display_data"
    }
   ],
   "source": [
    "# XGBoost\n",
    "\n",
    "import xgboost\n",
    "from xgboost import XGBClassifier\n",
    "\n",
    "xgb = XGBClassifier()\n",
    "model_xgb = xgb.fit(X_train, y_train)\n",
    "\n",
    "y_pred = model_xgb.predict(X_test)\n",
    "\n",
    "print(classification_report(y_test, y_pred))\n",
    "\n",
    "sns.heatmap(confusion_matrix(y_test, y_pred), annot = True)\n",
    "plt.show()"
   ]
  },
  {
   "cell_type": "code",
   "execution_count": null,
   "id": "48cd7a24",
   "metadata": {},
   "outputs": [],
   "source": [
    "# We are getting almost perfect results using XGBoost Classifier."
   ]
  },
  {
   "cell_type": "code",
   "execution_count": 113,
   "id": "49891282",
   "metadata": {},
   "outputs": [
    {
     "data": {
      "text/html": [
       "<div>\n",
       "<style scoped>\n",
       "    .dataframe tbody tr th:only-of-type {\n",
       "        vertical-align: middle;\n",
       "    }\n",
       "\n",
       "    .dataframe tbody tr th {\n",
       "        vertical-align: top;\n",
       "    }\n",
       "\n",
       "    .dataframe thead th {\n",
       "        text-align: right;\n",
       "    }\n",
       "</style>\n",
       "<table border=\"1\" class=\"dataframe\">\n",
       "  <thead>\n",
       "    <tr style=\"text-align: right;\">\n",
       "      <th></th>\n",
       "      <th>Features</th>\n",
       "      <th>Importance</th>\n",
       "    </tr>\n",
       "  </thead>\n",
       "  <tbody>\n",
       "    <tr>\n",
       "      <th>2</th>\n",
       "      <td>Polyuria_Yes</td>\n",
       "      <td>0.452719</td>\n",
       "    </tr>\n",
       "    <tr>\n",
       "      <th>3</th>\n",
       "      <td>Polydipsia_Yes</td>\n",
       "      <td>0.107814</td>\n",
       "    </tr>\n",
       "    <tr>\n",
       "      <th>1</th>\n",
       "      <td>Gender_Male</td>\n",
       "      <td>0.077241</td>\n",
       "    </tr>\n",
       "    <tr>\n",
       "      <th>14</th>\n",
       "      <td>Alopecia_Yes</td>\n",
       "      <td>0.050676</td>\n",
       "    </tr>\n",
       "    <tr>\n",
       "      <th>10</th>\n",
       "      <td>Irritability_Yes</td>\n",
       "      <td>0.044830</td>\n",
       "    </tr>\n",
       "    <tr>\n",
       "      <th>15</th>\n",
       "      <td>Obesity_Yes</td>\n",
       "      <td>0.039621</td>\n",
       "    </tr>\n",
       "    <tr>\n",
       "      <th>4</th>\n",
       "      <td>sudden weight loss_Yes</td>\n",
       "      <td>0.035571</td>\n",
       "    </tr>\n",
       "    <tr>\n",
       "      <th>11</th>\n",
       "      <td>delayed healing_Yes</td>\n",
       "      <td>0.034256</td>\n",
       "    </tr>\n",
       "    <tr>\n",
       "      <th>8</th>\n",
       "      <td>visual blurring_Yes</td>\n",
       "      <td>0.031130</td>\n",
       "    </tr>\n",
       "    <tr>\n",
       "      <th>13</th>\n",
       "      <td>muscle stiffness_Yes</td>\n",
       "      <td>0.027749</td>\n",
       "    </tr>\n",
       "    <tr>\n",
       "      <th>9</th>\n",
       "      <td>Itching_Yes</td>\n",
       "      <td>0.020927</td>\n",
       "    </tr>\n",
       "    <tr>\n",
       "      <th>5</th>\n",
       "      <td>weakness_Yes</td>\n",
       "      <td>0.017296</td>\n",
       "    </tr>\n",
       "    <tr>\n",
       "      <th>0</th>\n",
       "      <td>Age</td>\n",
       "      <td>0.016819</td>\n",
       "    </tr>\n",
       "    <tr>\n",
       "      <th>12</th>\n",
       "      <td>partial paresis_Yes</td>\n",
       "      <td>0.016070</td>\n",
       "    </tr>\n",
       "    <tr>\n",
       "      <th>7</th>\n",
       "      <td>Genital thrush_Yes</td>\n",
       "      <td>0.014739</td>\n",
       "    </tr>\n",
       "    <tr>\n",
       "      <th>6</th>\n",
       "      <td>Polyphagia_Yes</td>\n",
       "      <td>0.012543</td>\n",
       "    </tr>\n",
       "  </tbody>\n",
       "</table>\n",
       "</div>"
      ],
      "text/plain": [
       "                  Features  Importance\n",
       "2             Polyuria_Yes    0.452719\n",
       "3           Polydipsia_Yes    0.107814\n",
       "1              Gender_Male    0.077241\n",
       "14            Alopecia_Yes    0.050676\n",
       "10        Irritability_Yes    0.044830\n",
       "15             Obesity_Yes    0.039621\n",
       "4   sudden weight loss_Yes    0.035571\n",
       "11     delayed healing_Yes    0.034256\n",
       "8      visual blurring_Yes    0.031130\n",
       "13    muscle stiffness_Yes    0.027749\n",
       "9              Itching_Yes    0.020927\n",
       "5             weakness_Yes    0.017296\n",
       "0                      Age    0.016819\n",
       "12     partial paresis_Yes    0.016070\n",
       "7       Genital thrush_Yes    0.014739\n",
       "6           Polyphagia_Yes    0.012543"
      ]
     },
     "execution_count": 113,
     "metadata": {},
     "output_type": "execute_result"
    }
   ],
   "source": [
    "xgb_df = pd.DataFrame()\n",
    "xgb_df['Features'] = X_train.columns\n",
    "xgb_df['Importance'] = model_xgb.feature_importances_\n",
    "xgb_df[rf_df['Importance'] > 0].sort_values(by = 'Importance', ascending = False)\n",
    "\n",
    "# XGBoost Classifier is giving adequate importance to majority of the attributes to make the predictions."
   ]
  },
  {
   "cell_type": "code",
   "execution_count": null,
   "id": "489f16b6",
   "metadata": {},
   "outputs": [],
   "source": [
    "# We consider the XGBoost model as our final model as it is giving the best results."
   ]
  },
  {
   "cell_type": "code",
   "execution_count": 117,
   "id": "53e3888d",
   "metadata": {},
   "outputs": [
    {
     "data": {
      "image/png": "[encoded data removed]",
      "text/plain": [
       "<Figure size 576x360 with 1 Axes>"
      ]
     },
     "metadata": {
      "needs_background": "light"
     },
     "output_type": "display_data"
    }
   ],
   "source": [
    "y_pred_prob = model_xgb.predict_proba(X_test)\n",
    "\n",
    "fpr, tpr, th = roc_curve(y_test, y_pred_prob[:, 1])\n",
    "\n",
    "plt.figure(figsize = (8,5))\n",
    "plt.plot(fpr, tpr, label = 'XGBoost')\n",
    "plt.plot([0,1], [0,1], '--k')\n",
    "plt.xlabel('FPR')\n",
    "plt.ylabel('TPR')\n",
    "plt.title('ROC AUC Curve')\n",
    "plt.text(0.3, 0.01, s = ['ROC AUC Score : ', roc_auc_score(y_test, y_pred_prob[:, 1])])\n",
    "plt.legend()\n",
    "plt.grid()\n",
    "plt.show()"
   ]
  },
  {
   "cell_type": "code",
   "execution_count": null,
   "id": "f1476090",
   "metadata": {},
   "outputs": [],
   "source": [
    "# ROC = 1"
   ]
  },
  {
   "cell_type": "code",
   "execution_count": 116,
   "id": "588b58a4",
   "metadata": {},
   "outputs": [
    {
     "data": {
      "text/plain": [
       "0.9407294832826748"
      ]
     },
     "execution_count": 116,
     "metadata": {},
     "output_type": "execute_result"
    }
   ],
   "source": [
    "Kappa_Score = cohen_kappa_score(y_test, y_pred)\n",
    "Kappa_Score\n",
    "\n",
    "# Kappa Score = 1 which signifies that the predictions are near perfect."
   ]
  }
 ],
 "metadata": {
  "kernelspec": {
   "display_name": "Python 3",
   "language": "python",
   "name": "python3"
  },
  "language_info": {
   "codemirror_mode": {
    "name": "ipython",
    "version": 3
   },
   "file_extension": ".py",
   "mimetype": "text/x-python",
   "name": "python",
   "nbconvert_exporter": "python",
   "pygments_lexer": "ipython3",
   "version": "3.8.8"
  }
 },
 "nbformat": 4,
 "nbformat_minor": 5
}
